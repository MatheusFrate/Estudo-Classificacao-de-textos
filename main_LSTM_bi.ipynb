{
  "cells": [
    {
      "cell_type": "markdown",
      "metadata": {
        "id": "Qd7F7CC1BHfU"
      },
      "source": [
        "# imports de bibliotecas e de database"
      ]
    },
    {
      "cell_type": "code",
      "execution_count": 1,
      "metadata": {},
      "outputs": [],
      "source": [
        "# !pip install nltk\n",
        "# !pip install gensim\n",
        "# !pip install scikit-learn\n",
        "# !pip install pandas\n",
        "# !pip install matplotlib\n",
        "# !pip install wordcloud\n",
        "# !pip install tensorflow"
      ]
    },
    {
      "cell_type": "code",
      "execution_count": 2,
      "metadata": {
        "id": "9mDFCG5fRdJ1"
      },
      "outputs": [],
      "source": [
        "import re \n",
        "import os \n",
        "import nltk\n",
        "import gensim\n",
        "import random\n",
        "import numpy as np \n",
        "import unicodedata \n",
        "import pandas as pd \n",
        "import sklearn as skl\n",
        "import tensorflow as tf\n",
        "import matplotlib.pyplot as plt\n",
        "\n",
        "from zipfile import ZipFile \n",
        "from sklearn.metrics import precision_score, recall_score\n",
        "from sklearn.base import BaseEstimator, TransformerMixin\n",
        "from sklearn.model_selection import ParameterSampler\n",
        "from gensim.models import Word2Vec, KeyedVectors\n",
        "from sklearn.metrics import accuracy_score\n",
        "from sklearn.metrics import roc_auc_score\n",
        "from sklearn.metrics import f1_score\n",
        "from collections import defaultdict\n",
        "from gensim.models import Word2Vec"
      ]
    },
    {
      "cell_type": "markdown",
      "metadata": {},
      "source": [
        "# Download bases de dados e modelo word2vec de 100 dimensões já treinado"
      ]
    },
    {
      "cell_type": "code",
      "execution_count": 3,
      "metadata": {
        "colab": {
          "base_uri": "https://localhost:8080/"
        },
        "id": "RflS9lLjRdJ2",
        "outputId": "9227307a-b818-45fb-d77e-a57047885bec"
      },
      "outputs": [
        {
          "name": "stdout",
          "output_type": "stream",
          "text": [
            "Arquivos extraídos com sucesso!\n"
          ]
        }
      ],
      "source": [
        "url = 'https://github.com/gazzola/corpus_readability_nlp_portuguese/archive/refs/heads/master.zip'\n",
        "url2 = 'http://143.107.183.175:22980/download.php?file=embeddings/word2vec/cbow_s100.zip'\n",
        "\n",
        "# especifica o local onde ficarao os arquivos\n",
        "pathFiles = 'dados/'\n",
        "fileName = 'corpus_readability_nlp_portuguese.zip'\n",
        "\n",
        "# cria uma pasta onde ficarao os arquivos\n",
        "if not os.path.isdir(pathFiles):\n",
        "    os.mkdir(pathFiles)\n",
        "\n",
        "# faz o download do arquivo\n",
        "os.system('wget -O %s%s %s' %(pathFiles, fileName, url))\n",
        "fileName2 = 'cbow_s100.zip'\n",
        "os.system('wget -O %s%s %s' %(pathFiles, fileName2, url2))\n",
        "\n",
        "print('Arquivos extraídos com sucesso!')\n"
      ]
    },
    {
      "cell_type": "code",
      "execution_count": 4,
      "metadata": {
        "id": "wLhbgbFRden9"
      },
      "outputs": [],
      "source": [
        "# descompacta a base de dados de notícias\n",
        "z = ZipFile('dados/corpus_readability_nlp_portuguese.zip', 'r')\n",
        "z.extractall('dados/')\n",
        "z.close()\n",
        "\n",
        "z = ZipFile('dados/cbow_s100.zip', 'r')\n",
        "z.extractall('dados/')\n",
        "z.close()"
      ]
    },
    {
      "cell_type": "markdown",
      "metadata": {},
      "source": [
        "# Importação dos datasets e target\n",
        "\n",
        "é possivel ver que os datasets não estão balanceados"
      ]
    },
    {
      "cell_type": "code",
      "execution_count": 5,
      "metadata": {
        "colab": {
          "base_uri": "https://localhost:8080/"
        },
        "id": "i6xc7edSd9Nb",
        "outputId": "ce7e9b75-2e0c-4bbe-ce3d-24ab89c933fb"
      },
      "outputs": [
        {
          "name": "stdout",
          "output_type": "stream",
          "text": [
            "Ensino Fundamental 1 importadas com sucesso, tamanho: 297\n",
            "Ensino Fundamental 2 importadas com sucesso, tamanho: 325\n",
            "Ensino Medio importadas com sucesso, tamanho: 628\n",
            "Ensino Superior importadas com sucesso, tamanho: 826\n",
            "\n",
            "Qtd. textos dataset: 2076\n",
            "Qtd. textos target: 2076\n"
          ]
        }
      ],
      "source": [
        "def import_Dataset(path):\n",
        "\n",
        "    files = os.listdir(path)\n",
        "\n",
        "    dataset = []\n",
        "\n",
        "    for i, file in enumerate(files):\n",
        "\n",
        "        # abre o arquivo\n",
        "        fileTexto = open(path+'/'+file, \"r\", encoding='utf8', errors='replace') #utf8 #cp1252\n",
        "\n",
        "        # le o arquivo e armazena o texto dentro da variavel \"texto\"\n",
        "        texto = fileTexto.read()\n",
        "\n",
        "        dataset.append(texto)\n",
        "\n",
        "    return dataset\n",
        "\n",
        "# importa as bases de dados\n",
        "dataset_Fund1 = import_Dataset('dados/corpus_readability_nlp_portuguese-master/1_Ensino_Fundamental_I')\n",
        "print('Ensino Fundamental 1 importadas com sucesso, tamanho: %d' %len(dataset_Fund1))\n",
        "dataset_Fund2 = import_Dataset('dados/corpus_readability_nlp_portuguese-master/2_Ensino_Fundamental_II')\n",
        "print('Ensino Fundamental 2 importadas com sucesso, tamanho: %d' %len(dataset_Fund2))\n",
        "dataset_Medio = import_Dataset('dados/corpus_readability_nlp_portuguese-master/3_Ensino_Medio')\n",
        "print('Ensino Medio importadas com sucesso, tamanho: %d' %len(dataset_Medio))\n",
        "dataset_Superior = import_Dataset('dados/corpus_readability_nlp_portuguese-master/4_Ensino_Superior')\n",
        "print('Ensino Superior importadas com sucesso, tamanho: %d' %len(dataset_Superior))\n",
        "\n",
        "# concatena as bases de dados\n",
        "dataset = np.asarray( dataset_Fund1+dataset_Fund2+dataset_Medio+dataset_Superior)\n",
        "\n",
        "# cria um vetor para cada classe\n",
        "target_Fund1 = np.zeros( len(dataset_Fund1), dtype=int )\n",
        "target_Fund2 = np.ones( len(dataset_Fund2), dtype=int )\n",
        "target_Medio = np.full(len(dataset_Medio), 2)\n",
        "target_Superior = np.full(len(dataset_Superior), 3)\n",
        "\n",
        "# concateca os vetores de classe\n",
        "target = np.concatenate((target_Fund1, target_Fund2, target_Medio, target_Superior))\n",
        "\n",
        "# obtem as classes do problema\n",
        "classes = np.unique(target)\n",
        "\n",
        "print('\\nQtd. textos dataset: %d' %len(dataset))\n",
        "print('Qtd. textos target: %d' %len(target))\n"
      ]
    },
    {
      "cell_type": "code",
      "execution_count": 6,
      "metadata": {},
      "outputs": [
        {
          "name": "stdout",
          "output_type": "stream",
          "text": [
            "\n",
            "Qtd. textos dataset: 2076\n",
            "Qtd. Classes: 4\n",
            "Classe: 0, Qtd: 297, Porcentagem: 14.31\n",
            "Classe: 1, Qtd: 325, Porcentagem: 15.66\n",
            "Classe: 2, Qtd: 628, Porcentagem: 30.25\n",
            "Classe: 3, Qtd: 826, Porcentagem: 39.79\n"
          ]
        }
      ],
      "source": [
        "print('\\nQtd. textos dataset: %d' %len(dataset))\n",
        "print('Qtd. Classes: %d' %len(pd.unique(classes)))\n",
        "qtype = {}\n",
        "for i in pd.unique(classes):\n",
        "    print('Classe: %s, Qtd: %d, Porcentagem: %.2f' %(i, len(target[target==i]), len(target[target==i])/len(target)*100))\n",
        "    qtype[i] = len(target[target==i])\n",
        "    "
      ]
    },
    {
      "cell_type": "markdown",
      "metadata": {},
      "source": [
        "# Balanceamento do Dataset\n",
        "Como o dataset estava muito desbalanceado, com uma classe que representa mais de 74% e outra representando apenas 1.26%, então é necessário o balanceamento"
      ]
    },
    {
      "cell_type": "code",
      "execution_count": 7,
      "metadata": {},
      "outputs": [
        {
          "name": "stdout",
          "output_type": "stream",
          "text": [
            "<class 'numpy.ndarray'>\n"
          ]
        }
      ],
      "source": [
        "#printar tipo do dataset\n",
        "print(type(dataset))\n",
        "#transformar em dataframe juntando com o target\n",
        "df = pd.DataFrame({'text': dataset, 'target': target})"
      ]
    },
    {
      "cell_type": "code",
      "execution_count": 8,
      "metadata": {},
      "outputs": [
        {
          "name": "stdout",
          "output_type": "stream",
          "text": [
            "{0: 297, 1: 325, 2: 628, 3: 826}\n",
            "519.0\n",
            "\n",
            "After balancing:\n",
            "Qtd. textos dataset: 2076\n",
            "Qtd. Classes: 4\n",
            "Classe: 0, Qtd: 519\n",
            "Classe: 1, Qtd: 519\n",
            "Classe: 2, Qtd: 519\n",
            "Classe: 3, Qtd: 519\n",
            "                                                  text  target\n",
            "0     O jovem inventor Nicephóre Niepce foi quem co...       0\n",
            "1     As coisas pioraram nas cidades, porque os pré...       0\n",
            "2     Você acredita que mais de 600 mil lusitanos v...       0\n",
            "3     Depois de dar um duro danado, acordando muito...       0\n",
            "4     Para que todas essas coisas existam, as pesso...       0\n",
            "..                                                 ...     ...\n",
            "189  Biologia. As armas biológicas são as mais temi...       1\n",
            "190  Biologia. As armas biológicas são as mais temi...       1\n",
            "191  Biologia. As armas biológicas são as mais temi...       1\n",
            "192  Biologia. As armas biológicas são as mais temi...       1\n",
            "193  Biologia. As armas biológicas são as mais temi...       1\n",
            "\n",
            "[2076 rows x 2 columns]\n"
          ]
        }
      ],
      "source": [
        "print(qtype)\n",
        "mean = np.array(list(qtype.values())).mean()\n",
        "print(mean.round())\n",
        "\n",
        "# Funcao para deletar linhas aleatoriamente\n",
        "def delete_random_rows(df, type_value, num_to_delete):\n",
        "    indices = df[df['target'] == type_value].index.tolist()\n",
        "    if len(indices) <= num_to_delete:\n",
        "        return df.drop(index=indices)\n",
        "    else:\n",
        "        random_indices = random.sample(indices, num_to_delete)\n",
        "        return df.drop(index=random_indices)\n",
        "\n",
        "# Funcao para duplicar linhas aleatoriamente\n",
        "def duplicate_random_rows(df, type_value, num_to_duplicate):\n",
        "    indices = df[df['target'] == type_value].index.tolist()\n",
        "    if len(indices) == 0:\n",
        "        return df\n",
        "    else:\n",
        "        new_rows = df.loc[random.sample(indices, 1)]  # Sample existing row\n",
        "        new_rows = pd.concat([new_rows] * num_to_create, ignore_index=True)\n",
        "        return pd.concat([df, new_rows])\n",
        "\n",
        "# Processa cada tipo de texto\n",
        "for type_value in pd.unique(df['target']):\n",
        "    count = qtype[type_value]\n",
        "    if count > mean:\n",
        "        num_to_delete = min(count - int(mean), count)\n",
        "        df = delete_random_rows(df, type_value, num_to_delete)\n",
        "    elif count < mean:\n",
        "        num_to_create = int(mean) - count\n",
        "        df = duplicate_random_rows(df, type_value, num_to_create)\n",
        "        \n",
        "print('\\nAfter balancing:')\n",
        "print('Qtd. textos dataset: %d' % len(df))\n",
        "print('Qtd. Classes: %d' % len(pd.unique(df['target'])))\n",
        "for i in pd.unique(df['target']):\n",
        "    print('Classe: %s, Qtd: %d' % (i, len(df[df['target'] == i])))\n",
        "\n",
        "print(df)"
      ]
    },
    {
      "cell_type": "markdown",
      "metadata": {
        "id": "Vod3DB1uBTz-"
      },
      "source": [
        "# Preprocessing"
      ]
    },
    {
      "cell_type": "code",
      "execution_count": 9,
      "metadata": {
        "colab": {
          "base_uri": "https://localhost:8080/"
        },
        "id": "HQ4Pk3CLRdJ4",
        "outputId": "2029eb26-fead-4fab-ef22-1bc8cdf829fe"
      },
      "outputs": [
        {
          "name": "stderr",
          "output_type": "stream",
          "text": [
            "<>:23: SyntaxWarning: invalid escape sequence '\\s'\n",
            "<>:27: SyntaxWarning: invalid escape sequence '\\s'\n",
            "<>:23: SyntaxWarning: invalid escape sequence '\\s'\n",
            "<>:27: SyntaxWarning: invalid escape sequence '\\s'\n",
            "C:\\Users\\mathe\\AppData\\Local\\Temp\\ipykernel_22620\\1791963403.py:23: SyntaxWarning: invalid escape sequence '\\s'\n",
            "  regex = re.compile('(http|https)://[^\\s]*')\n",
            "C:\\Users\\mathe\\AppData\\Local\\Temp\\ipykernel_22620\\1791963403.py:27: SyntaxWarning: invalid escape sequence '\\s'\n",
            "  regex = re.compile('[^\\s]+@[^\\s]+')\n",
            "[nltk_data] Downloading package stopwords to\n",
            "[nltk_data]     C:\\Users\\mathe\\AppData\\Roaming\\nltk_data...\n",
            "[nltk_data]   Package stopwords is already up-to-date!\n",
            "[nltk_data] Downloading package rslp to\n",
            "[nltk_data]     C:\\Users\\mathe\\AppData\\Roaming\\nltk_data...\n",
            "[nltk_data]   Package rslp is already up-to-date!\n"
          ]
        }
      ],
      "source": [
        "# Download stopwords corpus\n",
        "nltk.download('stopwords')\n",
        "\n",
        "# Download RSLPStemmer\n",
        "nltk.download('rslp')\n",
        "\n",
        "from nltk.stem import RSLPStemmer # para fazer a estemização em documentos da lingua portuguesa\n",
        "\n",
        "def preprocessing_portuguese(text, stemming = False, stopwords = False):\n",
        "\n",
        "    # Lower case\n",
        "    text = text.lower()\n",
        "\n",
        "    # remove os acentos das palavras\n",
        "    nfkd_form = unicodedata.normalize('NFKD', text)\n",
        "    text = u\"\".join([c for c in nfkd_form if not unicodedata.combining(c)])\n",
        "\n",
        "    # remove tags HTML\n",
        "    regex = re.compile('<[^<>]+>')\n",
        "    text = re.sub(regex, \" \", text)\n",
        "\n",
        "    # normaliza as URLs\n",
        "    regex = re.compile('(http|https)://[^\\s]*')\n",
        "    text = re.sub(regex, \"<URL>\", text)\n",
        "\n",
        "    # normaliza emails\n",
        "    regex = re.compile('[^\\s]+@[^\\s]+')\n",
        "    text = re.sub(regex, \"<EMAIL>\", text)\n",
        "\n",
        "    # converte todos os caracteres não-alfanuméricos em espaço\n",
        "    regex = re.compile('[^A-Za-z0-9]+')\n",
        "    text = re.sub(regex, \" \", text)\n",
        "\n",
        "    # normaliza os numeros\n",
        "    regex = re.compile('[0-9]+.[0-9]+')\n",
        "    text = re.sub(regex, \"NUMERO\", text)\n",
        "\n",
        "    # normaliza os numeros\n",
        "    regex = re.compile('[0-9]+,[0-9]+')\n",
        "    text = re.sub(regex, \"NUMERO\", text)\n",
        "\n",
        "    # normaliza os numeros\n",
        "    regex = re.compile('[0-9]+')\n",
        "    text = re.sub(regex, \"NUMERO\", text)\n",
        "\n",
        "\n",
        "    # substitui varios espaçamentos seguidos em um só\n",
        "    text = ' '.join(text.split())\n",
        "\n",
        "    # separa o texto em palavras\n",
        "    words = text.split()\n",
        "\n",
        "    # trunca o texto para apenas 200 termos\n",
        "    words = words[0:200]\n",
        "\n",
        "    # remove stopwords\n",
        "    if stopwords:\n",
        "        words = text.split() # separa o texto em palavras\n",
        "        words = [w for w in words if not w in nltk.corpus.stopwords.words('portuguese')]\n",
        "        text = \" \".join( words )\n",
        "\n",
        "    # aplica estemização\n",
        "    if stemming:\n",
        "        stemmer_method = RSLPStemmer()\n",
        "        words = [ stemmer_method.stem(w) for w in words ]\n",
        "        text = \" \".join( words )\n",
        "\n",
        "    # remove palavras compostas por apenas um caracter\n",
        "    words = text.split() # separa o texto em palavras\n",
        "    words = [ w for w in words if len(w)>1 ]\n",
        "    text = \" \".join( words )\n",
        "\n",
        "    return text\n",
        "\n",
        "class Preprocessing(BaseEstimator, TransformerMixin):\n",
        "    def __init__(self, stemming=False, stopwords=False):\n",
        "        self.stemming = stemming\n",
        "        self.stopwords = stopwords\n",
        "\n",
        "    def fit(self, X, y=None):\n",
        "        return self\n",
        "\n",
        "    def transform(self, X, y=None):\n",
        "        return [preprocessing_portuguese(x, self.stemming, self.stopwords) for x in X]\n",
        "    "
      ]
    },
    {
      "cell_type": "markdown",
      "metadata": {},
      "source": [
        "# funções para o embedding\n"
      ]
    },
    {
      "cell_type": "code",
      "execution_count": 10,
      "metadata": {},
      "outputs": [],
      "source": [
        "class Embedding(BaseEstimator, TransformerMixin):\n",
        "    def __init__(self, pretreinado, vector_size, window, min_count, maxLength = 100):\n",
        "        self.pretreinado = pretreinado\n",
        "        self.vector_size = vector_size\n",
        "        self.window = window\n",
        "        self.min_count = min_count\n",
        "        self.model = None\n",
        "        self.maxLength = maxLength\n",
        "\n",
        "    def fit(self, X, y=None):\n",
        "        \n",
        "        if self.pretreinado:\n",
        "            self.model = KeyedVectors.load_word2vec_format('dados/cbow_s100.txt')\n",
        "        else:\n",
        "            self.model = Word2Vec(sentences = X,\n",
        "                          vector_size = self.vector_size,\n",
        "                          window = self.window,\n",
        "                          min_count = self.min_count)\n",
        "        return self\n",
        "\n",
        "\n",
        "    def transform(self, X, y=None):\n",
        "        if self.pretreinado:\n",
        "            return self.dataset2featureMatrix2(X, self.model)\n",
        "        else:\n",
        "            return self.dataset2featureMatrix(X, self.model)\n",
        "    \n",
        "    def getDocvector(self, model, doc, maxLength = 100):\n",
        "\n",
        "        embedding_dim = model.wv[model.wv.index_to_key[0]].shape[0]\n",
        "\n",
        "        \n",
        "        wordVecs = []\n",
        "\n",
        "        for i in range(maxLength):\n",
        "\n",
        "            wordVecs.append( np.zeros(embedding_dim) )\n",
        "\n",
        "            if i<len(doc):\n",
        "\n",
        "                try:\n",
        "                    wordVecs[i] = model.wv[ doc[i] ]\n",
        "                except:\n",
        "                    pass \n",
        "\n",
        "\n",
        "        wordVecs = np.array(wordVecs)\n",
        "        return wordVecs\n",
        "\n",
        "    def dataset2featureMatrix(self, dataset, embeddingModel):\n",
        "\n",
        "        X_embedding = []\n",
        "        for doc in dataset:\n",
        "            vec = self.getDocvector(embeddingModel, doc)\n",
        "            X_embedding.append(vec)\n",
        "\n",
        "        X_embedding = np.array(X_embedding)\n",
        "\n",
        "        return X_embedding\n",
        "    \n",
        "\n",
        "    def getDocvector2(self, model, doc, maxLength = 100):\n",
        "        \n",
        "        embedding_dim = model[model.index_to_key[0]].shape[0]\n",
        "\n",
        "        wordVecs = []\n",
        "\n",
        "        for i in range(maxLength):\n",
        "\n",
        "            wordVecs.append( np.zeros(embedding_dim) )\n",
        "\n",
        "            if i<len(doc):\n",
        "\n",
        "                try:\n",
        "                    wordVecs[i] = model[ doc[i] ]\n",
        "                except:\n",
        "                    pass \n",
        "\n",
        "        wordVecs = np.array(wordVecs)\n",
        "\n",
        "        return wordVecs\n",
        "\n",
        "    def dataset2featureMatrix2(self, dataset, embeddingModel):\n",
        "\n",
        "        word2v = []\n",
        "        for doc in dataset:\n",
        "            vec = self.getDocvector2(embeddingModel, doc)\n",
        "            word2v.append(vec)\n",
        "\n",
        "        word2v = np.array(word2v)\n",
        "\n",
        "        return word2v"
      ]
    },
    {
      "cell_type": "markdown",
      "metadata": {},
      "source": [
        "# nuvem de palavra do dataset\n",
        "\n",
        "é  possivel observar que precisa do preprocessamento"
      ]
    },
    {
      "cell_type": "code",
      "execution_count": 11,
      "metadata": {},
      "outputs": [
        {
          "data": {
            "image/png": "[encoded data removed]",
            "text/plain": [
              "<Figure size 640x480 with 1 Axes>"
            ]
          },
          "metadata": {},
          "output_type": "display_data"
        }
      ],
      "source": [
        "import matplotlib.pyplot as plt\n",
        "\n",
        "from wordcloud import WordCloud\n",
        "\n",
        "wc = WordCloud(min_font_size = 10, max_font_size = 200, \n",
        "               background_color = \"white\", relative_scaling=0.5)\n",
        "\n",
        "# Adicione o texto à nuvem de palavras\n",
        "wc.generate(\" \".join(dataset))\n",
        "\n",
        "# Plote a nuvem de palavras\n",
        "plt.imshow(wc)\n",
        "plt.axis(\"off\")\n",
        "plt.show()"
      ]
    },
    {
      "cell_type": "markdown",
      "metadata": {
        "id": "1F9GERa3zP1Q"
      },
      "source": [
        "# Divisão do dataset \n"
      ]
    },
    {
      "cell_type": "code",
      "execution_count": 12,
      "metadata": {},
      "outputs": [
        {
          "data": {
            "text/plain": [
              "0     O jovem inventor Nicephóre Niepce foi quem co...\n",
              "1     As coisas pioraram nas cidades, porque os pré...\n",
              "2     Você acredita que mais de 600 mil lusitanos v...\n",
              "3     Depois de dar um duro danado, acordando muito...\n",
              "4     Para que todas essas coisas existam, as pesso...\n",
              "Name: text, dtype: object"
            ]
          },
          "metadata": {},
          "output_type": "display_data"
        },
        {
          "data": {
            "text/plain": [
              "0    0\n",
              "1    0\n",
              "2    0\n",
              "3    0\n",
              "4    0\n",
              "Name: target, dtype: int32"
            ]
          },
          "metadata": {},
          "output_type": "display_data"
        }
      ],
      "source": [
        "dataset = df['text']\n",
        "target = df['target']\n",
        "\n",
        "display(dataset.head())\n",
        "display(target.head())"
      ]
    },
    {
      "cell_type": "code",
      "execution_count": 13,
      "metadata": {},
      "outputs": [
        {
          "name": "stdout",
          "output_type": "stream",
          "text": [
            "(1660,)\n",
            "(416,)\n",
            "\n",
            "Qtd. textos dataset: 2076\n",
            "\n",
            "Qtd. textos dataset: 1660\n",
            "\n",
            "Qtd. textos dataset: 416\n"
          ]
        }
      ],
      "source": [
        "from sklearn.model_selection import train_test_split\n",
        "\n",
        "X_train, X_test, y_train, y_test = train_test_split(\n",
        "    dataset,  # Dados com os títulos e textos\n",
        "    target,   # Classes correspondentes\n",
        "    test_size=0.2,  # Porcentagem dos dados a serem usados como conjunto de teste\n",
        "    random_state=42  # Semente para a geração de números aleatórios para reprodutibilidade\n",
        ")\n",
        "# display(X_train.head())\n",
        "# display(y_train.head())\n",
        "# display(X_test.head())\n",
        "# display(y_test.head())\n",
        "print(X_train.shape)\n",
        "print(X_test.shape)\n",
        "print('\\nQtd. textos dataset: %d' %len(dataset))\n",
        "print('\\nQtd. textos dataset: %d' %len(X_train))\n",
        "print('\\nQtd. textos dataset: %d' %len(X_test))"
      ]
    },
    {
      "cell_type": "markdown",
      "metadata": {},
      "source": [
        "# definição dos pipeline e execução do Grid Search"
      ]
    },
    {
      "cell_type": "code",
      "execution_count": 14,
      "metadata": {},
      "outputs": [],
      "source": [
        "import tensorflow\n",
        "import tensorflow as tf\n",
        "from tensorflow.keras.models import Sequential\n",
        "from tensorflow.keras.layers import Dense\n",
        "from tensorflow.keras.regularizers import L2\n",
        "from tensorflow.keras.layers import Dropout\n",
        "from sklearn.base import BaseEstimator, ClassifierMixin\n",
        "from sklearn.pipeline import Pipeline\n",
        "from sklearn.preprocessing import StandardScaler\n",
        "from tensorflow.keras import layers\n",
        "import matplotlib.pyplot as plt\n",
        "import pandas as pd\n",
        "\n",
        "class LSTM(BaseEstimator, TransformerMixin):\n",
        "    def __init__(self, maxlength = 100, units = 100, optimizer = 'adam', output_layer_size = 4, learning_rate = 0.001, dropout = 0, epochs = 50, ):\n",
        "        self.model = None\n",
        "        self.output_layer_size = output_layer_size\n",
        "        self.optimizer = optimizer\n",
        "        self.units = units\n",
        "        self.dropout = dropout\n",
        "        self.epochs = epochs\n",
        "        self.maxlength = maxlength\n",
        "        self.learning_rate = learning_rate\n",
        "        \n",
        "        # # Configura o modelo de rede neural artificial\n",
        "        self.model = tf.keras.Sequential()\n",
        "\n",
        "    def fit(self, X, y):\n",
        "        self.model.add(layers.Bidirectional(layers.LSTM(units=self.units, return_sequences=False, input_shape=(self.maxlength, self.maxlength))))\n",
        "\n",
        "        # como o problema de classificacao é binario, podemos setar o parametro units=1\n",
        "        if (self.dropout > 0):\n",
        "            self.model.add(Dropout(self.dropout))\n",
        "\n",
        "        self.model.add(layers.Dense(units=4, activation='softmax'))\n",
        "\n",
        "\n",
        "        optimizer = tf.keras.optimizers.Adam(learning_rate=self.learning_rate)\n",
        "        self.model.compile(optimizer=optimizer, loss='sparse_categorical_crossentropy', metrics=['accuracy'])\n",
        "      \n",
        "        self.history = self.model.fit(X, y, epochs = self.epochs, batch_size=100, validation_split=0.2, verbose = 0)\n",
        "\n",
        "        return self.history\n",
        "    \n",
        "    def transform(self, X, y=None):\n",
        "        return self\n",
        "\n",
        "\n",
        "    def predict(self, X_test):\n",
        "        y_pred = self.model.predict(X_test)\n",
        "        return y_pred\n",
        "    \n",
        "    def clean(self):\n",
        "        self.model = Sequential()\n",
        "\n",
        "    def get_history(self):\n",
        "        return self.history\n"
      ]
    },
    {
      "cell_type": "markdown",
      "metadata": {},
      "source": [
        "## Com todos os parametros"
      ]
    },
    {
      "cell_type": "code",
      "execution_count": 15,
      "metadata": {},
      "outputs": [
        {
          "name": "stdout",
          "output_type": "stream",
          "text": [
            "\n",
            "Método:  LSTM Bidirecional Word2Vec\n",
            "Parâmetros: \n",
            "stemming:  True\n",
            "stopwords:  True\n",
            "epochs:  20\n",
            "learning_rate:  0.01\n",
            "units:  30\n",
            "dropout:  0.01\n",
            "maxlength:  100\n"
          ]
        },
        {
          "name": "stderr",
          "output_type": "stream",
          "text": [
            "d:\\Estudo\\Projetos\\IA\\Estudo-Classificacao-de-textos\\.venv\\Lib\\site-packages\\keras\\src\\layers\\rnn\\rnn.py:204: UserWarning: Do not pass an `input_shape`/`input_dim` argument to a layer. When using Sequential models, prefer using an `Input(shape)` object as the first layer in the model instead.\n",
            "  super().__init__(**kwargs)\n"
          ]
        },
        {
          "name": "stdout",
          "output_type": "stream",
          "text": [
            "\u001b[1m13/13\u001b[0m \u001b[32m━━━━━━━━━━━━━━━━━━━━\u001b[0m\u001b[37m\u001b[0m \u001b[1m0s\u001b[0m 4ms/step  \n",
            "WARNING:tensorflow:From d:\\Estudo\\Projetos\\IA\\Estudo-Classificacao-de-textos\\.venv\\Lib\\site-packages\\keras\\src\\backend\\common\\global_state.py:82: The name tf.reset_default_graph is deprecated. Please use tf.compat.v1.reset_default_graph instead.\n",
            "\n",
            "accuracy 0.6370192307692307 macro_f1 0.6358035637981311 precision 0.6398486429160855 recall 0.6345770555316401 auc 0.8728502025873894\n",
            "Parâmetros: \n",
            "stemming:  False\n",
            "stopwords:  False\n",
            "epochs:  10\n",
            "learning_rate:  0.1\n",
            "units:  20\n",
            "dropout:  0.1\n",
            "maxlength:  100\n"
          ]
        },
        {
          "name": "stderr",
          "output_type": "stream",
          "text": [
            "d:\\Estudo\\Projetos\\IA\\Estudo-Classificacao-de-textos\\.venv\\Lib\\site-packages\\keras\\src\\layers\\rnn\\rnn.py:204: UserWarning: Do not pass an `input_shape`/`input_dim` argument to a layer. When using Sequential models, prefer using an `Input(shape)` object as the first layer in the model instead.\n",
            "  super().__init__(**kwargs)\n"
          ]
        },
        {
          "name": "stdout",
          "output_type": "stream",
          "text": [
            "\u001b[1m13/13\u001b[0m \u001b[32m━━━━━━━━━━━━━━━━━━━━\u001b[0m\u001b[37m\u001b[0m \u001b[1m0s\u001b[0m 4ms/step  \n",
            "accuracy 0.6538461538461539 macro_f1 0.6509887978490752 precision 0.6533330080238517 recall 0.6504218682737839 auc 0.8689581928229867\n",
            "Parâmetros: \n",
            "stemming:  False\n",
            "stopwords:  False\n",
            "epochs:  10\n",
            "learning_rate:  0.001\n",
            "units:  20\n",
            "dropout:  0.01\n",
            "maxlength:  100\n"
          ]
        },
        {
          "name": "stderr",
          "output_type": "stream",
          "text": [
            "d:\\Estudo\\Projetos\\IA\\Estudo-Classificacao-de-textos\\.venv\\Lib\\site-packages\\keras\\src\\layers\\rnn\\rnn.py:204: UserWarning: Do not pass an `input_shape`/`input_dim` argument to a layer. When using Sequential models, prefer using an `Input(shape)` object as the first layer in the model instead.\n",
            "  super().__init__(**kwargs)\n"
          ]
        },
        {
          "name": "stdout",
          "output_type": "stream",
          "text": [
            "\u001b[1m13/13\u001b[0m \u001b[32m━━━━━━━━━━━━━━━━━━━━\u001b[0m\u001b[37m\u001b[0m \u001b[1m0s\u001b[0m 4ms/step  \n",
            "accuracy 0.5745192307692307 macro_f1 0.5712324289368154 precision 0.5920986381167557 recall 0.5745630650021524 auc 0.8311714911993642\n",
            "Parâmetros: \n",
            "stemming:  True\n",
            "stopwords:  False\n",
            "epochs:  20\n",
            "learning_rate:  0.01\n",
            "units:  10\n",
            "dropout:  0.01\n",
            "maxlength:  100\n"
          ]
        },
        {
          "name": "stderr",
          "output_type": "stream",
          "text": [
            "d:\\Estudo\\Projetos\\IA\\Estudo-Classificacao-de-textos\\.venv\\Lib\\site-packages\\keras\\src\\layers\\rnn\\rnn.py:204: UserWarning: Do not pass an `input_shape`/`input_dim` argument to a layer. When using Sequential models, prefer using an `Input(shape)` object as the first layer in the model instead.\n",
            "  super().__init__(**kwargs)\n"
          ]
        },
        {
          "name": "stdout",
          "output_type": "stream",
          "text": [
            "\u001b[1m13/13\u001b[0m \u001b[32m━━━━━━━━━━━━━━━━━━━━\u001b[0m\u001b[37m\u001b[0m \u001b[1m0s\u001b[0m 3ms/step  \n",
            "accuracy 0.6490384615384616 macro_f1 0.6471882389044894 precision 0.6549536359001767 recall 0.6472503228583728 auc 0.8588249199994051\n",
            "Parâmetros: \n",
            "stemming:  True\n",
            "stopwords:  False\n",
            "epochs:  20\n",
            "learning_rate:  0.1\n",
            "units:  10\n",
            "dropout:  0.01\n",
            "maxlength:  100\n"
          ]
        },
        {
          "name": "stderr",
          "output_type": "stream",
          "text": [
            "d:\\Estudo\\Projetos\\IA\\Estudo-Classificacao-de-textos\\.venv\\Lib\\site-packages\\keras\\src\\layers\\rnn\\rnn.py:204: UserWarning: Do not pass an `input_shape`/`input_dim` argument to a layer. When using Sequential models, prefer using an `Input(shape)` object as the first layer in the model instead.\n",
            "  super().__init__(**kwargs)\n"
          ]
        },
        {
          "name": "stdout",
          "output_type": "stream",
          "text": [
            "\u001b[1m13/13\u001b[0m \u001b[32m━━━━━━━━━━━━━━━━━━━━\u001b[0m\u001b[37m\u001b[0m \u001b[1m0s\u001b[0m 3ms/step  \n",
            "accuracy 0.6201923076923077 macro_f1 0.6187720618543483 precision 0.6252960275019098 recall 0.6181295738269479 auc 0.852696757499428\n",
            "Parâmetros: \n",
            "stemming:  True\n",
            "stopwords:  True\n",
            "epochs:  20\n",
            "learning_rate:  0.001\n",
            "units:  10\n",
            "dropout:  0.1\n",
            "maxlength:  100\n"
          ]
        },
        {
          "name": "stderr",
          "output_type": "stream",
          "text": [
            "d:\\Estudo\\Projetos\\IA\\Estudo-Classificacao-de-textos\\.venv\\Lib\\site-packages\\keras\\src\\layers\\rnn\\rnn.py:204: UserWarning: Do not pass an `input_shape`/`input_dim` argument to a layer. When using Sequential models, prefer using an `Input(shape)` object as the first layer in the model instead.\n",
            "  super().__init__(**kwargs)\n"
          ]
        },
        {
          "name": "stdout",
          "output_type": "stream",
          "text": [
            "\u001b[1m13/13\u001b[0m \u001b[32m━━━━━━━━━━━━━━━━━━━━\u001b[0m\u001b[37m\u001b[0m \u001b[1m0s\u001b[0m 3ms/step  \n",
            "accuracy 0.5913461538461539 macro_f1 0.5917770322455771 precision 0.5989222752207679 recall 0.589532931554025 auc 0.8375463452899667\n",
            "Parâmetros: \n",
            "stemming:  True\n",
            "stopwords:  True\n",
            "epochs:  10\n",
            "learning_rate:  0.1\n",
            "units:  10\n",
            "dropout:  0\n",
            "maxlength:  100\n"
          ]
        },
        {
          "name": "stderr",
          "output_type": "stream",
          "text": [
            "d:\\Estudo\\Projetos\\IA\\Estudo-Classificacao-de-textos\\.venv\\Lib\\site-packages\\keras\\src\\layers\\rnn\\rnn.py:204: UserWarning: Do not pass an `input_shape`/`input_dim` argument to a layer. When using Sequential models, prefer using an `Input(shape)` object as the first layer in the model instead.\n",
            "  super().__init__(**kwargs)\n"
          ]
        },
        {
          "name": "stdout",
          "output_type": "stream",
          "text": [
            "\u001b[1m13/13\u001b[0m \u001b[32m━━━━━━━━━━━━━━━━━━━━\u001b[0m\u001b[37m\u001b[0m \u001b[1m0s\u001b[0m 3ms/step  \n",
            "accuracy 0.6730769230769231 macro_f1 0.6704200598771803 precision 0.673015873015873 recall 0.6715777012483857 auc 0.8796465527697669\n",
            "Parâmetros: \n",
            "stemming:  True\n",
            "stopwords:  False\n",
            "epochs:  20\n",
            "learning_rate:  0.001\n",
            "units:  30\n",
            "dropout:  0.01\n",
            "maxlength:  100\n"
          ]
        },
        {
          "name": "stderr",
          "output_type": "stream",
          "text": [
            "d:\\Estudo\\Projetos\\IA\\Estudo-Classificacao-de-textos\\.venv\\Lib\\site-packages\\keras\\src\\layers\\rnn\\rnn.py:204: UserWarning: Do not pass an `input_shape`/`input_dim` argument to a layer. When using Sequential models, prefer using an `Input(shape)` object as the first layer in the model instead.\n",
            "  super().__init__(**kwargs)\n"
          ]
        },
        {
          "name": "stdout",
          "output_type": "stream",
          "text": [
            "\u001b[1m13/13\u001b[0m \u001b[32m━━━━━━━━━━━━━━━━━━━━\u001b[0m\u001b[37m\u001b[0m \u001b[1m0s\u001b[0m 4ms/step  \n",
            "accuracy 0.6177884615384616 macro_f1 0.6192965234287681 precision 0.6458635540138629 recall 0.6174580284115367 auc 0.8563388671489147\n",
            "Parâmetros: \n",
            "stemming:  False\n",
            "stopwords:  False\n",
            "epochs:  20\n",
            "learning_rate:  0.01\n",
            "units:  30\n",
            "dropout:  0.01\n",
            "maxlength:  100\n"
          ]
        },
        {
          "name": "stderr",
          "output_type": "stream",
          "text": [
            "d:\\Estudo\\Projetos\\IA\\Estudo-Classificacao-de-textos\\.venv\\Lib\\site-packages\\keras\\src\\layers\\rnn\\rnn.py:204: UserWarning: Do not pass an `input_shape`/`input_dim` argument to a layer. When using Sequential models, prefer using an `Input(shape)` object as the first layer in the model instead.\n",
            "  super().__init__(**kwargs)\n"
          ]
        },
        {
          "name": "stdout",
          "output_type": "stream",
          "text": [
            "\u001b[1m13/13\u001b[0m \u001b[32m━━━━━━━━━━━━━━━━━━━━\u001b[0m\u001b[37m\u001b[0m \u001b[1m0s\u001b[0m 4ms/step\n",
            "accuracy 0.6610576923076923 macro_f1 0.6584817650685175 precision 0.6640384503719119 recall 0.6575957813172622 auc 0.8862575123861165\n",
            "Parâmetros: \n",
            "stemming:  True\n",
            "stopwords:  False\n",
            "epochs:  10\n",
            "learning_rate:  0.001\n",
            "units:  20\n",
            "dropout:  0.01\n",
            "maxlength:  100\n"
          ]
        },
        {
          "name": "stderr",
          "output_type": "stream",
          "text": [
            "d:\\Estudo\\Projetos\\IA\\Estudo-Classificacao-de-textos\\.venv\\Lib\\site-packages\\keras\\src\\layers\\rnn\\rnn.py:204: UserWarning: Do not pass an `input_shape`/`input_dim` argument to a layer. When using Sequential models, prefer using an `Input(shape)` object as the first layer in the model instead.\n",
            "  super().__init__(**kwargs)\n"
          ]
        },
        {
          "name": "stdout",
          "output_type": "stream",
          "text": [
            "\u001b[1m13/13\u001b[0m \u001b[32m━━━━━━━━━━━━━━━━━━━━\u001b[0m\u001b[37m\u001b[0m \u001b[1m0s\u001b[0m 4ms/step  \n",
            "accuracy 0.5817307692307693 macro_f1 0.5818993139440696 precision 0.5939963239393162 recall 0.5816917778734395 auc 0.8237042611484503\n",
            "Melhor Acurácia:  0.6610576923076923\n",
            "Melhor Macro F1:  0.6584817650685175\n",
            "Melhor precisão:  0.6640384503719119\n",
            "Melhor revocação:  0.6575957813172622\n",
            "Melhor AUC:  0.8862575123861165\n",
            "Melhores Parâmetros:  {'preprocessing__stopwords': False, 'preprocessing__stemming': False, 'clf__units': 30, 'clf__maxlength': 100, 'clf__learning_rate': 0.01, 'clf__epochs': 20, 'clf__dropout': 0.01}\n"
          ]
        },
        {
          "data": {
            "image/png": "[encoded data removed]",
            "text/plain": [
              "<Figure size 640x480 with 1 Axes>"
            ]
          },
          "metadata": {},
          "output_type": "display_data"
        },
        {
          "name": "stdout",
          "output_type": "stream",
          "text": [
            "\n",
            "Método:  LSTM Bidirecional Word2Vec pretreinado\n",
            "Parâmetros: \n",
            "stemming:  False\n",
            "stopwords:  False\n",
            "epochs:  10\n",
            "learning_rate:  0.01\n",
            "units:  30\n",
            "dropout:  0\n",
            "maxlength:  100\n"
          ]
        },
        {
          "name": "stderr",
          "output_type": "stream",
          "text": [
            "d:\\Estudo\\Projetos\\IA\\Estudo-Classificacao-de-textos\\.venv\\Lib\\site-packages\\keras\\src\\layers\\rnn\\rnn.py:204: UserWarning: Do not pass an `input_shape`/`input_dim` argument to a layer. When using Sequential models, prefer using an `Input(shape)` object as the first layer in the model instead.\n",
            "  super().__init__(**kwargs)\n"
          ]
        },
        {
          "name": "stdout",
          "output_type": "stream",
          "text": [
            "\u001b[1m13/13\u001b[0m \u001b[32m━━━━━━━━━━━━━━━━━━━━\u001b[0m\u001b[37m\u001b[0m \u001b[1m0s\u001b[0m 5ms/step\n",
            "accuracy 0.6394230769230769 macro_f1 0.6437732209459133 precision 0.668277910110951 recall 0.6384061558329747 auc 0.881048575652951\n",
            "Parâmetros: \n",
            "stemming:  False\n",
            "stopwords:  True\n",
            "epochs:  20\n",
            "learning_rate:  0.01\n",
            "units:  20\n",
            "dropout:  0.01\n",
            "maxlength:  100\n"
          ]
        },
        {
          "name": "stderr",
          "output_type": "stream",
          "text": [
            "d:\\Estudo\\Projetos\\IA\\Estudo-Classificacao-de-textos\\.venv\\Lib\\site-packages\\keras\\src\\layers\\rnn\\rnn.py:204: UserWarning: Do not pass an `input_shape`/`input_dim` argument to a layer. When using Sequential models, prefer using an `Input(shape)` object as the first layer in the model instead.\n",
            "  super().__init__(**kwargs)\n"
          ]
        },
        {
          "name": "stdout",
          "output_type": "stream",
          "text": [
            "\u001b[1m13/13\u001b[0m \u001b[32m━━━━━━━━━━━━━━━━━━━━\u001b[0m\u001b[37m\u001b[0m \u001b[1m0s\u001b[0m 4ms/step  \n",
            "accuracy 0.6730769230769231 macro_f1 0.6749309526588089 precision 0.6879651587206721 recall 0.6719780456306501 auc 0.8803407877517502\n",
            "Parâmetros: \n",
            "stemming:  False\n",
            "stopwords:  False\n",
            "epochs:  10\n",
            "learning_rate:  0.01\n",
            "units:  30\n",
            "dropout:  0.01\n",
            "maxlength:  100\n"
          ]
        },
        {
          "name": "stderr",
          "output_type": "stream",
          "text": [
            "d:\\Estudo\\Projetos\\IA\\Estudo-Classificacao-de-textos\\.venv\\Lib\\site-packages\\keras\\src\\layers\\rnn\\rnn.py:204: UserWarning: Do not pass an `input_shape`/`input_dim` argument to a layer. When using Sequential models, prefer using an `Input(shape)` object as the first layer in the model instead.\n",
            "  super().__init__(**kwargs)\n"
          ]
        },
        {
          "name": "stdout",
          "output_type": "stream",
          "text": [
            "\u001b[1m13/13\u001b[0m \u001b[32m━━━━━━━━━━━━━━━━━━━━\u001b[0m\u001b[37m\u001b[0m \u001b[1m0s\u001b[0m 4ms/step\n",
            "accuracy 0.6514423076923077 macro_f1 0.650478356916499 precision 0.6657737273790674 recall 0.6490733964700819 auc 0.8839681994421885\n",
            "Parâmetros: \n",
            "stemming:  True\n",
            "stopwords:  False\n",
            "epochs:  10\n",
            "learning_rate:  0.001\n",
            "units:  30\n",
            "dropout:  0\n",
            "maxlength:  100\n"
          ]
        },
        {
          "name": "stderr",
          "output_type": "stream",
          "text": [
            "d:\\Estudo\\Projetos\\IA\\Estudo-Classificacao-de-textos\\.venv\\Lib\\site-packages\\keras\\src\\layers\\rnn\\rnn.py:204: UserWarning: Do not pass an `input_shape`/`input_dim` argument to a layer. When using Sequential models, prefer using an `Input(shape)` object as the first layer in the model instead.\n",
            "  super().__init__(**kwargs)\n"
          ]
        },
        {
          "name": "stdout",
          "output_type": "stream",
          "text": [
            "\u001b[1m13/13\u001b[0m \u001b[32m━━━━━━━━━━━━━━━━━━━━\u001b[0m\u001b[37m\u001b[0m \u001b[1m0s\u001b[0m 4ms/step\n",
            "accuracy 0.59375 macro_f1 0.5971075122773648 precision 0.6276519497681244 recall 0.5963215669393027 auc 0.8491197275351469\n",
            "Parâmetros: \n",
            "stemming:  True\n",
            "stopwords:  False\n",
            "epochs:  20\n",
            "learning_rate:  0.01\n",
            "units:  20\n",
            "dropout:  0\n",
            "maxlength:  100\n"
          ]
        },
        {
          "name": "stderr",
          "output_type": "stream",
          "text": [
            "d:\\Estudo\\Projetos\\IA\\Estudo-Classificacao-de-textos\\.venv\\Lib\\site-packages\\keras\\src\\layers\\rnn\\rnn.py:204: UserWarning: Do not pass an `input_shape`/`input_dim` argument to a layer. When using Sequential models, prefer using an `Input(shape)` object as the first layer in the model instead.\n",
            "  super().__init__(**kwargs)\n"
          ]
        },
        {
          "name": "stdout",
          "output_type": "stream",
          "text": [
            "\u001b[1m13/13\u001b[0m \u001b[32m━━━━━━━━━━━━━━━━━━━━\u001b[0m\u001b[37m\u001b[0m \u001b[1m0s\u001b[0m 4ms/step  \n",
            "accuracy 0.6610576923076923 macro_f1 0.6592770988098091 precision 0.6608558086400924 recall 0.6591024537236333 auc 0.8639339672071664\n",
            "Parâmetros: \n",
            "stemming:  True\n",
            "stopwords:  True\n",
            "epochs:  10\n",
            "learning_rate:  0.001\n",
            "units:  10\n",
            "dropout:  0.1\n",
            "maxlength:  100\n"
          ]
        },
        {
          "name": "stderr",
          "output_type": "stream",
          "text": [
            "d:\\Estudo\\Projetos\\IA\\Estudo-Classificacao-de-textos\\.venv\\Lib\\site-packages\\keras\\src\\layers\\rnn\\rnn.py:204: UserWarning: Do not pass an `input_shape`/`input_dim` argument to a layer. When using Sequential models, prefer using an `Input(shape)` object as the first layer in the model instead.\n",
            "  super().__init__(**kwargs)\n"
          ]
        },
        {
          "name": "stdout",
          "output_type": "stream",
          "text": [
            "\u001b[1m13/13\u001b[0m \u001b[32m━━━━━━━━━━━━━━━━━━━━\u001b[0m\u001b[37m\u001b[0m \u001b[1m0s\u001b[0m 3ms/step  \n",
            "accuracy 0.5360576923076923 macro_f1 0.5480336266438435 precision 0.6000200037501914 recall 0.536721911321567 auc 0.8089727682404482\n",
            "Parâmetros: \n",
            "stemming:  False\n",
            "stopwords:  False\n",
            "epochs:  20\n",
            "learning_rate:  0.01\n",
            "units:  20\n",
            "dropout:  0.1\n",
            "maxlength:  100\n"
          ]
        },
        {
          "name": "stderr",
          "output_type": "stream",
          "text": [
            "d:\\Estudo\\Projetos\\IA\\Estudo-Classificacao-de-textos\\.venv\\Lib\\site-packages\\keras\\src\\layers\\rnn\\rnn.py:204: UserWarning: Do not pass an `input_shape`/`input_dim` argument to a layer. When using Sequential models, prefer using an `Input(shape)` object as the first layer in the model instead.\n",
            "  super().__init__(**kwargs)\n"
          ]
        },
        {
          "name": "stdout",
          "output_type": "stream",
          "text": [
            "\u001b[1m13/13\u001b[0m \u001b[32m━━━━━━━━━━━━━━━━━━━━\u001b[0m\u001b[37m\u001b[0m \u001b[1m0s\u001b[0m 4ms/step  \n",
            "accuracy 0.65625 macro_f1 0.6557549996097574 precision 0.6608180048774108 recall 0.6541272061988808 auc 0.8752572099190741\n",
            "Parâmetros: \n",
            "stemming:  False\n",
            "stopwords:  True\n",
            "epochs:  20\n",
            "learning_rate:  0.1\n",
            "units:  10\n",
            "dropout:  0\n",
            "maxlength:  100\n"
          ]
        },
        {
          "name": "stderr",
          "output_type": "stream",
          "text": [
            "d:\\Estudo\\Projetos\\IA\\Estudo-Classificacao-de-textos\\.venv\\Lib\\site-packages\\keras\\src\\layers\\rnn\\rnn.py:204: UserWarning: Do not pass an `input_shape`/`input_dim` argument to a layer. When using Sequential models, prefer using an `Input(shape)` object as the first layer in the model instead.\n",
            "  super().__init__(**kwargs)\n"
          ]
        },
        {
          "name": "stdout",
          "output_type": "stream",
          "text": [
            "\u001b[1m13/13\u001b[0m \u001b[32m━━━━━━━━━━━━━━━━━━━━\u001b[0m\u001b[37m\u001b[0m \u001b[1m0s\u001b[0m 4ms/step  \n",
            "accuracy 0.6225961538461539 macro_f1 0.6253653530377667 precision 0.6411850236277717 recall 0.6228379250968575 auc 0.8482505847791029\n",
            "Parâmetros: \n",
            "stemming:  True\n",
            "stopwords:  False\n",
            "epochs:  10\n",
            "learning_rate:  0.01\n",
            "units:  30\n",
            "dropout:  0\n",
            "maxlength:  100\n"
          ]
        },
        {
          "name": "stderr",
          "output_type": "stream",
          "text": [
            "d:\\Estudo\\Projetos\\IA\\Estudo-Classificacao-de-textos\\.venv\\Lib\\site-packages\\keras\\src\\layers\\rnn\\rnn.py:204: UserWarning: Do not pass an `input_shape`/`input_dim` argument to a layer. When using Sequential models, prefer using an `Input(shape)` object as the first layer in the model instead.\n",
            "  super().__init__(**kwargs)\n"
          ]
        },
        {
          "name": "stdout",
          "output_type": "stream",
          "text": [
            "\u001b[1m13/13\u001b[0m \u001b[32m━━━━━━━━━━━━━━━━━━━━\u001b[0m\u001b[37m\u001b[0m \u001b[1m0s\u001b[0m 4ms/step  \n",
            "accuracy 0.6394230769230769 macro_f1 0.6383086688654495 precision 0.6450282543499819 recall 0.6371760654326303 auc 0.8710844674468307\n",
            "Parâmetros: \n",
            "stemming:  True\n",
            "stopwords:  True\n",
            "epochs:  10\n",
            "learning_rate:  0.01\n",
            "units:  30\n",
            "dropout:  0\n",
            "maxlength:  100\n"
          ]
        },
        {
          "name": "stderr",
          "output_type": "stream",
          "text": [
            "d:\\Estudo\\Projetos\\IA\\Estudo-Classificacao-de-textos\\.venv\\Lib\\site-packages\\keras\\src\\layers\\rnn\\rnn.py:204: UserWarning: Do not pass an `input_shape`/`input_dim` argument to a layer. When using Sequential models, prefer using an `Input(shape)` object as the first layer in the model instead.\n",
            "  super().__init__(**kwargs)\n"
          ]
        },
        {
          "name": "stdout",
          "output_type": "stream",
          "text": [
            "\u001b[1m13/13\u001b[0m \u001b[32m━━━━━━━━━━━━━━━━━━━━\u001b[0m\u001b[37m\u001b[0m \u001b[1m0s\u001b[0m 4ms/step\n",
            "accuracy 0.6418269230769231 macro_f1 0.6423197832044477 precision 0.6537362513338258 recall 0.6399278949634094 auc 0.8765217914099338\n",
            "Melhor Acurácia:  0.6514423076923077\n",
            "Melhor Macro F1:  0.650478356916499\n",
            "Melhor precisão:  0.6657737273790674\n",
            "Melhor revocação:  0.6490733964700819\n",
            "Melhor AUC:  0.8839681994421885\n",
            "Melhores Parâmetros:  {'preprocessing__stopwords': False, 'preprocessing__stemming': False, 'clf__units': 30, 'clf__maxlength': 100, 'clf__learning_rate': 0.01, 'clf__epochs': 10, 'clf__dropout': 0.01}\n"
          ]
        },
        {
          "data": {
            "image/png": "[encoded data removed]",
            "text/plain": [
              "<Figure size 640x480 with 1 Axes>"
            ]
          },
          "metadata": {},
          "output_type": "display_data"
        }
      ],
      "source": [
        "from sklearn.metrics import roc_auc_score\n",
        "from sklearn.model_selection import ParameterSampler\n",
        "\n",
        "\n",
        "maxlength = 100\n",
        "pipelines = [\n",
        "    \n",
        "    ('LSTM Bidirecional Word2Vec', Pipeline([\n",
        "        ('preprocessing', Preprocessing()),\n",
        "        ('embedding', Embedding(pretreinado='False', vector_size=maxlength, window=3,min_count=1)),\n",
        "        ('clf', LSTM(epochs=20)),\n",
        "    ])),\n",
        "    ('LSTM Bidirecional Word2Vec pretreinado', Pipeline([\n",
        "        ('preprocessing', Preprocessing()),\n",
        "        ('embedding', Embedding(pretreinado='True', vector_size=maxlength, window=3,min_count=1)),\n",
        "        ('clf', LSTM(epochs=20)),\n",
        "    ])),\n",
        "]\n",
        "\n",
        "preprocessed_data = defaultdict(dict)\n",
        "# Definindo a grade de parâmetros\n",
        "parameters = {\n",
        "    'preprocessing__stemming': [False, True],\n",
        "    'preprocessing__stopwords': [False, True],\n",
        "    'clf__epochs':[10, 20],\n",
        "    'clf__learning_rate':[0.001, 0.01, 0.1],\n",
        "    'clf__units':[10,20,30],\n",
        "    'clf__dropout':[0, 0.1, 0.01],\n",
        "    'clf__maxlength': [maxlength]\n",
        "}\n",
        "\n",
        "param_distributions = ParameterSampler(parameters, n_iter=10)\n",
        "\n",
        "best_auc_pipeline = 0\n",
        "best_pipeline = None\n",
        "preprocessed_X_train = None\n",
        "for name, pipeline in pipelines:\n",
        "    best_accuracy = 0\n",
        "    best_auc = 0\n",
        "    best_params = None\n",
        "    best_history = None\n",
        "    print(\"\\nMétodo: \", name)\n",
        "\n",
        "    for params in param_distributions:\n",
        "        print(\"Parâmetros: \")\n",
        "        print(\"stemming: \", params['preprocessing__stemming'])\n",
        "        print(\"stopwords: \", params['preprocessing__stopwords'])\n",
        "        print(\"epochs: \", params['clf__epochs'])\n",
        "        print(\"learning_rate: \", params['clf__learning_rate'])\n",
        "        print(\"units: \", params['clf__units'])\n",
        "        print(\"dropout: \", params['clf__dropout'])\n",
        "        print(\"maxlength: \", params['clf__maxlength'])\n",
        "\n",
        "# Verifica se os dados pré-processados já existem no dicionário\n",
        "        \n",
        "        pipeline.set_params(**params)\n",
        "        # Ajusta o pipeline aos dados pré-processados\n",
        "        pipeline.fit(X_train, y_train)\n",
        "        history = pipeline.named_steps['clf'].get_history()\n",
        "        Y_pred = pipeline.predict(X_test )\n",
        "        y_pred = np.argmax(Y_pred, axis=1)\n",
        "        accuracy = accuracy_score(y_test, y_pred)\n",
        "        macro_f1 = f1_score(y_test, y_pred, average='macro'  )\n",
        "        precision = precision_score(y_test, y_pred, average='macro', zero_division=0)\n",
        "        recall = recall_score(y_test, y_pred, average='macro')\n",
        "        auc = roc_auc_score(y_test, Y_pred, average='macro', multi_class='ovr')\n",
        "        pipeline.named_steps['clf'].clean()\n",
        "        tf.keras.backend.clear_session()\n",
        "        # display('accuracy', accuracy, 'macro_f1', macro_f1, 'precision', precision, 'recall', recall, 'auc', auc)\n",
        "        print('accuracy', accuracy, 'macro_f1', macro_f1, 'precision', precision, 'recall', recall, 'auc', auc)\n",
        "        # Se o auc for melhor que o melhor auc até agora, atualiza o melhor auc e os melhores parâmetros\n",
        "        if auc > best_auc:\n",
        "            best_accuracy = accuracy\n",
        "            best_macro = macro_f1\n",
        "            best_precision = precision\n",
        "            best_recall = recall\n",
        "            best_params = params\n",
        "            best_pipeline = pipeline\n",
        "            best_history = history\n",
        "            best_auc = auc\n",
        "\n",
        "    \n",
        "    if best_auc > best_auc_pipeline:\n",
        "        best_auc_pipeline = best_auc\n",
        "        best_pipeline = pipeline\n",
        "    print(\"Melhor Acurácia: \", best_accuracy)\n",
        "    print(\"Melhor Macro F1: \", best_macro)\n",
        "    print(\"Melhor precisão: \", best_precision)\n",
        "    print(\"Melhor revocação: \", best_recall)\n",
        "    print(\"Melhor AUC: \", best_auc)\n",
        "    print(\"Melhores Parâmetros: \", best_params)\n",
        "\n",
        "    plt.plot(best_history.history['loss'])\n",
        "    plt.plot(best_history.history['val_loss'])\n",
        "    plt.title('model loss')\n",
        "    plt.ylabel('loss')\n",
        "    plt.xlabel('epoch')\n",
        "    plt.legend(['train', 'test'], loc='upper left')\n",
        "    plt.show()"
      ]
    }
  ],
  "metadata": {
    "colab": {
      "provenance": []
    },
    "kernelspec": {
      "display_name": "Python 3 (ipykernel)",
      "language": "python",
      "name": "python3"
    },
    "language_info": {
      "codemirror_mode": {
        "name": "ipython",
        "version": 3
      },
      "file_extension": ".py",
      "mimetype": "text/x-python",
      "name": "python",
      "nbconvert_exporter": "python",
      "pygments_lexer": "ipython3",
      "version": "3.12.1"
    }
  },
  "nbformat": 4,
  "nbformat_minor": 0
}
