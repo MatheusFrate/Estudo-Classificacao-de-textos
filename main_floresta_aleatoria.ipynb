{
  "cells": [
    {
      "cell_type": "markdown",
      "metadata": {
        "id": "Qd7F7CC1BHfU"
      },
      "source": [
        "# imports de bibliotecas e de database"
      ]
    },
    {
      "cell_type": "code",
      "execution_count": 1,
      "metadata": {
        "id": "9mDFCG5fRdJ1"
      },
      "outputs": [],
      "source": [
        "import re # biblioteca para expressoes regulares\n",
        "import os # biblioteca sobre o sistema operacional\n",
        "import nltk # biblioteca para o preprocessamento\n",
        "import gensim\n",
        "import random\n",
        "import numpy as np # biblioteca usada para trabalhar com vetores e matrizes\n",
        "import unicodedata # sera usada para remover acentos dos documentos em lingua portuguesa\n",
        "import pandas as pd # biblioteca usada para trabalhar com dataframes e análise de dados\n",
        "import sklearn as skl\n",
        "from zipfile import ZipFile # biblioteca para arquivos zipados\n",
        "from sklearn.feature_extraction.text import CountVectorizer, TfidfVectorizer\n",
        "from sklearn.metrics import precision_score, recall_score, accuracy_score, f1_score, roc_auc_score\n",
        "from sklearn.base import BaseEstimator, TransformerMixin\n",
        "from sklearn.model_selection import ParameterSampler\n",
        "from sklearn.ensemble import RandomForestClassifier\n",
        "from gensim.models import Word2Vec, KeyedVectors\n",
        "from sklearn.preprocessing import MinMaxScaler\n",
        "from sklearn.pipeline import Pipeline\n",
        "from collections import defaultdict\n",
        "from wordcloud import WordCloud\n",
        "import matplotlib.pyplot as plt\n",
        "\n",
        "\n"
      ]
    },
    {
      "cell_type": "markdown",
      "metadata": {},
      "source": [
        "# Download bases de dados e modelo word2vec de 100 dimensões já treinado"
      ]
    },
    {
      "cell_type": "code",
      "execution_count": 2,
      "metadata": {
        "colab": {
          "base_uri": "https://localhost:8080/"
        },
        "id": "RflS9lLjRdJ2",
        "outputId": "9227307a-b818-45fb-d77e-a57047885bec"
      },
      "outputs": [
        {
          "name": "stdout",
          "output_type": "stream",
          "text": [
            "Arquivos extraídos com sucesso!\n"
          ]
        }
      ],
      "source": [
        "url = 'https://github.com/gazzola/corpus_readability_nlp_portuguese/archive/refs/heads/master.zip'\n",
        "url2 = 'http://143.107.183.175:22980/download.php?file=embeddings/word2vec/cbow_s100.zip'\n",
        "\n",
        "# especifica o local onde ficarao os arquivos\n",
        "pathFiles = 'dados/'\n",
        "fileName = 'corpus_readability_nlp_portuguese.zip'\n",
        "\n",
        "# cria uma pasta onde ficarao os arquivos\n",
        "if not os.path.isdir(pathFiles):\n",
        "    os.mkdir(pathFiles)\n",
        "\n",
        "# faz o download do arquivo\n",
        "os.system('wget -O %s%s %s' %(pathFiles, fileName, url))\n",
        "fileName2 = 'cbow_s100.zip'\n",
        "os.system('wget -O %s%s %s' %(pathFiles, fileName2, url2))\n",
        "\n",
        "print('Arquivos extraídos com sucesso!')\n"
      ]
    },
    {
      "cell_type": "code",
      "execution_count": 3,
      "metadata": {
        "id": "wLhbgbFRden9"
      },
      "outputs": [],
      "source": [
        "# descompacta a base de dados de notícias\n",
        "z = ZipFile('dados/corpus_readability_nlp_portuguese.zip', 'r')\n",
        "z.extractall('dados/')\n",
        "z.close()\n",
        "\n",
        "z = ZipFile('dados/cbow_s100.zip', 'r')\n",
        "z.extractall('dados/')\n",
        "z.close()"
      ]
    },
    {
      "cell_type": "code",
      "execution_count": 4,
      "metadata": {
        "colab": {
          "base_uri": "https://localhost:8080/"
        },
        "id": "i6xc7edSd9Nb",
        "outputId": "ce7e9b75-2e0c-4bbe-ce3d-24ab89c933fb"
      },
      "outputs": [
        {
          "name": "stdout",
          "output_type": "stream",
          "text": [
            "Ensino Fundamental 1 importadas com sucesso\n",
            "Ensino Fundamental 2 importadas com sucesso\n",
            "Ensino Medio importadas com sucesso\n",
            "Ensino Superior importadas com sucesso\n",
            "\n",
            "Qtd. textos dataset: 2076\n",
            "Qtd. textos target: 2076\n"
          ]
        }
      ],
      "source": [
        "def import_Dataset(path):\n",
        "\n",
        "    files = os.listdir(path)\n",
        "\n",
        "    dataset = []\n",
        "\n",
        "    for i, file in enumerate(files):\n",
        "\n",
        "        # abre o arquivo\n",
        "        fileTexto = open(path+'/'+file, \"r\", encoding='utf8', errors='replace') #utf8 #cp1252\n",
        "\n",
        "        # le o arquivo e armazena o texto dentro da variavel \"texto\"\n",
        "        texto = fileTexto.read()\n",
        "\n",
        "        dataset.append(texto)\n",
        "\n",
        "    return dataset\n",
        "\n",
        "# importa as bases de dados\n",
        "dataset_Fund1 = import_Dataset('dados/corpus_readability_nlp_portuguese-master/1_Ensino_Fundamental_I')\n",
        "print('Ensino Fundamental 1 importadas com sucesso')\n",
        "dataset_Fund2 = import_Dataset('dados/corpus_readability_nlp_portuguese-master/2_Ensino_Fundamental_II')\n",
        "print('Ensino Fundamental 2 importadas com sucesso')\n",
        "dataset_Medio = import_Dataset('dados/corpus_readability_nlp_portuguese-master/3_Ensino_Medio')\n",
        "print('Ensino Medio importadas com sucesso')\n",
        "dataset_Superior = import_Dataset('dados/corpus_readability_nlp_portuguese-master/4_Ensino_Superior')\n",
        "print('Ensino Superior importadas com sucesso')\n",
        "\n",
        "# concatena as bases de dados\n",
        "dataset = np.asarray( dataset_Fund1+dataset_Fund2+dataset_Medio+dataset_Superior)\n",
        "\n",
        "\n",
        "# cria um vetor para cada classe\n",
        "target_Fund1 = np.zeros( len(dataset_Fund1), dtype=int )\n",
        "target_Fund2 = np.ones( len(dataset_Fund2), dtype=int )\n",
        "target_Medio = np.full(len(dataset_Medio), 2)\n",
        "target_Superior = np.full(len(dataset_Superior), 3)\n",
        "\n",
        "# concateca os vetores de classe\n",
        "target = np.concatenate((target_Fund1, target_Fund2, target_Medio, target_Superior))\n",
        "\n",
        "# obtem as classes do problema\n",
        "classes = np.unique(target)\n",
        "\n",
        "print('\\nQtd. textos dataset: %d' %len(dataset))\n",
        "print('Qtd. textos target: %d' %len(target))"
      ]
    },
    {
      "cell_type": "code",
      "execution_count": 5,
      "metadata": {},
      "outputs": [
        {
          "name": "stdout",
          "output_type": "stream",
          "text": [
            "\n",
            "Qtd. textos dataset: 2076\n",
            "Qtd. Classes: 4\n",
            "Classe: 0, Qtd: 297, Porcentagem: 14.31\n",
            "Classe: 1, Qtd: 325, Porcentagem: 15.66\n",
            "Classe: 2, Qtd: 628, Porcentagem: 30.25\n",
            "Classe: 3, Qtd: 826, Porcentagem: 39.79\n"
          ]
        }
      ],
      "source": [
        "print('\\nQtd. textos dataset: %d' %len(dataset))\n",
        "print('Qtd. Classes: %d' %len(pd.unique(classes)))\n",
        "qtype = {}\n",
        "for i in pd.unique(classes):\n",
        "    print('Classe: %s, Qtd: %d, Porcentagem: %.2f' %(i, len(target[target==i]), len(target[target==i])/len(target)*100))\n",
        "    qtype[i] = len(target[target==i])\n",
        "    "
      ]
    },
    {
      "cell_type": "markdown",
      "metadata": {},
      "source": [
        "# Balanceamento do Dataset\n",
        "Como o dataset estava muito desbalanceado, com uma classe que representa mais de 74% e outra representando apenas 1.26%, então é necessário o balanceamento"
      ]
    },
    {
      "cell_type": "code",
      "execution_count": 6,
      "metadata": {},
      "outputs": [
        {
          "name": "stdout",
          "output_type": "stream",
          "text": [
            "<class 'numpy.ndarray'>\n"
          ]
        }
      ],
      "source": [
        "#printar tipo do dataset\n",
        "print(type(dataset))\n",
        "#transformar em dataframe juntando com o target\n",
        "df = pd.DataFrame({'text': dataset, 'target': target})"
      ]
    },
    {
      "cell_type": "code",
      "execution_count": 7,
      "metadata": {},
      "outputs": [
        {
          "name": "stdout",
          "output_type": "stream",
          "text": [
            "                                                text  target\n",
            "0   O jovem inventor Nicephóre Niepce foi quem co...       0\n",
            "1   As coisas pioraram nas cidades, porque os pré...       0\n",
            "2   Você acredita que mais de 600 mil lusitanos v...       0\n",
            "3   Depois de dar um duro danado, acordando muito...       0\n",
            "4   Para que todas essas coisas existam, as pesso...       0\n"
          ]
        }
      ],
      "source": [
        "print(df.head())"
      ]
    },
    {
      "cell_type": "code",
      "execution_count": 8,
      "metadata": {},
      "outputs": [
        {
          "name": "stdout",
          "output_type": "stream",
          "text": [
            "{0: 297, 1: 325, 2: 628, 3: 826}\n",
            "519.0\n",
            "\n",
            "After balancing:\n",
            "Qtd. textos dataset: 2076\n",
            "Qtd. Classes: 4\n",
            "Classe: 0, Qtd: 519\n",
            "Classe: 1, Qtd: 519\n",
            "Classe: 2, Qtd: 519\n",
            "Classe: 3, Qtd: 519\n",
            "                                                  text  target\n",
            "0     O jovem inventor Nicephóre Niepce foi quem co...       0\n",
            "1     As coisas pioraram nas cidades, porque os pré...       0\n",
            "2     Você acredita que mais de 600 mil lusitanos v...       0\n",
            "3     Depois de dar um duro danado, acordando muito...       0\n",
            "4     Para que todas essas coisas existam, as pesso...       0\n",
            "..                                                 ...     ...\n",
            "189  Curiosidades. Quando as divergências dos povos...       1\n",
            "190  Curiosidades. Quando as divergências dos povos...       1\n",
            "191  Curiosidades. Quando as divergências dos povos...       1\n",
            "192  Curiosidades. Quando as divergências dos povos...       1\n",
            "193  Curiosidades. Quando as divergências dos povos...       1\n",
            "\n",
            "[2076 rows x 2 columns]\n"
          ]
        }
      ],
      "source": [
        "print(qtype)\n",
        "mean = np.array(list(qtype.values())).mean()\n",
        "print(mean.round())\n",
        "\n",
        "# Funcao para deletar linhas aleatoriamente\n",
        "def delete_random_rows(df, type_value, num_to_delete):\n",
        "    indices = df[df['target'] == type_value].index.tolist()\n",
        "    if len(indices) <= num_to_delete:\n",
        "        return df.drop(index=indices)\n",
        "    else:\n",
        "        random_indices = random.sample(indices, num_to_delete)\n",
        "        return df.drop(index=random_indices)\n",
        "\n",
        "# Funcao para duplicar linhas aleatoriamente\n",
        "def duplicate_random_rows(df, type_value, num_to_duplicate):\n",
        "    indices = df[df['target'] == type_value].index.tolist()\n",
        "    if len(indices) == 0:\n",
        "        return df\n",
        "    else:\n",
        "        new_rows = df.loc[random.sample(indices, 1)]  # Sample existing row\n",
        "        new_rows = pd.concat([new_rows] * num_to_create, ignore_index=True)\n",
        "        return pd.concat([df, new_rows])\n",
        "\n",
        "# Processa cada tipo de texto\n",
        "for type_value in pd.unique(df['target']):\n",
        "    count = qtype[type_value]\n",
        "    if count > mean:\n",
        "        num_to_delete = min(count - int(mean), count)\n",
        "        df = delete_random_rows(df, type_value, num_to_delete)\n",
        "    elif count < mean:\n",
        "        num_to_create = int(mean) - count\n",
        "        df = duplicate_random_rows(df, type_value, num_to_create)\n",
        "        \n",
        "print('\\nAfter balancing:')\n",
        "print('Qtd. textos dataset: %d' % len(df))\n",
        "print('Qtd. Classes: %d' % len(pd.unique(df['target'])))\n",
        "for i in pd.unique(df['target']):\n",
        "    print('Classe: %s, Qtd: %d' % (i, len(df[df['target'] == i])))\n",
        "\n",
        "print(df)"
      ]
    },
    {
      "cell_type": "markdown",
      "metadata": {
        "id": "Vod3DB1uBTz-"
      },
      "source": [
        "# Preprocessing"
      ]
    },
    {
      "cell_type": "code",
      "execution_count": 9,
      "metadata": {
        "colab": {
          "base_uri": "https://localhost:8080/"
        },
        "id": "HQ4Pk3CLRdJ4",
        "outputId": "2029eb26-fead-4fab-ef22-1bc8cdf829fe"
      },
      "outputs": [
        {
          "name": "stderr",
          "output_type": "stream",
          "text": [
            "<>:23: SyntaxWarning: invalid escape sequence '\\s'\n",
            "<>:27: SyntaxWarning: invalid escape sequence '\\s'\n",
            "<>:23: SyntaxWarning: invalid escape sequence '\\s'\n",
            "<>:27: SyntaxWarning: invalid escape sequence '\\s'\n",
            "C:\\Users\\mathe\\AppData\\Local\\Temp\\ipykernel_22228\\1791963403.py:23: SyntaxWarning: invalid escape sequence '\\s'\n",
            "  regex = re.compile('(http|https)://[^\\s]*')\n",
            "C:\\Users\\mathe\\AppData\\Local\\Temp\\ipykernel_22228\\1791963403.py:27: SyntaxWarning: invalid escape sequence '\\s'\n",
            "  regex = re.compile('[^\\s]+@[^\\s]+')\n",
            "[nltk_data] Downloading package stopwords to\n",
            "[nltk_data]     C:\\Users\\mathe\\AppData\\Roaming\\nltk_data...\n",
            "[nltk_data]   Package stopwords is already up-to-date!\n",
            "[nltk_data] Downloading package rslp to\n",
            "[nltk_data]     C:\\Users\\mathe\\AppData\\Roaming\\nltk_data...\n",
            "[nltk_data]   Package rslp is already up-to-date!\n"
          ]
        }
      ],
      "source": [
        "# Download stopwords corpus\n",
        "nltk.download('stopwords')\n",
        "\n",
        "# Download RSLPStemmer\n",
        "nltk.download('rslp')\n",
        "\n",
        "from nltk.stem import RSLPStemmer # para fazer a estemização em documentos da lingua portuguesa\n",
        "\n",
        "def preprocessing_portuguese(text, stemming = False, stopwords = False):\n",
        "\n",
        "    # Lower case\n",
        "    text = text.lower()\n",
        "\n",
        "    # remove os acentos das palavras\n",
        "    nfkd_form = unicodedata.normalize('NFKD', text)\n",
        "    text = u\"\".join([c for c in nfkd_form if not unicodedata.combining(c)])\n",
        "\n",
        "    # remove tags HTML\n",
        "    regex = re.compile('<[^<>]+>')\n",
        "    text = re.sub(regex, \" \", text)\n",
        "\n",
        "    # normaliza as URLs\n",
        "    regex = re.compile('(http|https)://[^\\s]*')\n",
        "    text = re.sub(regex, \"<URL>\", text)\n",
        "\n",
        "    # normaliza emails\n",
        "    regex = re.compile('[^\\s]+@[^\\s]+')\n",
        "    text = re.sub(regex, \"<EMAIL>\", text)\n",
        "\n",
        "    # converte todos os caracteres não-alfanuméricos em espaço\n",
        "    regex = re.compile('[^A-Za-z0-9]+')\n",
        "    text = re.sub(regex, \" \", text)\n",
        "\n",
        "    # normaliza os numeros\n",
        "    regex = re.compile('[0-9]+.[0-9]+')\n",
        "    text = re.sub(regex, \"NUMERO\", text)\n",
        "\n",
        "    # normaliza os numeros\n",
        "    regex = re.compile('[0-9]+,[0-9]+')\n",
        "    text = re.sub(regex, \"NUMERO\", text)\n",
        "\n",
        "    # normaliza os numeros\n",
        "    regex = re.compile('[0-9]+')\n",
        "    text = re.sub(regex, \"NUMERO\", text)\n",
        "\n",
        "\n",
        "    # substitui varios espaçamentos seguidos em um só\n",
        "    text = ' '.join(text.split())\n",
        "\n",
        "    # separa o texto em palavras\n",
        "    words = text.split()\n",
        "\n",
        "    # trunca o texto para apenas 200 termos\n",
        "    words = words[0:200]\n",
        "\n",
        "    # remove stopwords\n",
        "    if stopwords:\n",
        "        words = text.split() # separa o texto em palavras\n",
        "        words = [w for w in words if not w in nltk.corpus.stopwords.words('portuguese')]\n",
        "        text = \" \".join( words )\n",
        "\n",
        "    # aplica estemização\n",
        "    if stemming:\n",
        "        stemmer_method = RSLPStemmer()\n",
        "        words = [ stemmer_method.stem(w) for w in words ]\n",
        "        text = \" \".join( words )\n",
        "\n",
        "    # remove palavras compostas por apenas um caracter\n",
        "    words = text.split() # separa o texto em palavras\n",
        "    words = [ w for w in words if len(w)>1 ]\n",
        "    text = \" \".join( words )\n",
        "\n",
        "    return text\n",
        "\n",
        "class Preprocessing(BaseEstimator, TransformerMixin):\n",
        "    def __init__(self, stemming=False, stopwords=False):\n",
        "        self.stemming = stemming\n",
        "        self.stopwords = stopwords\n",
        "\n",
        "    def fit(self, X, y=None):\n",
        "        return self\n",
        "\n",
        "    def transform(self, X, y=None):\n",
        "        return [preprocessing_portuguese(x, self.stemming, self.stopwords) for x in X]\n",
        "    "
      ]
    },
    {
      "cell_type": "markdown",
      "metadata": {},
      "source": [
        "# funções para o embedding\n"
      ]
    },
    {
      "cell_type": "code",
      "execution_count": 10,
      "metadata": {},
      "outputs": [],
      "source": [
        "class Embedding(BaseEstimator, TransformerMixin):\n",
        "    def __init__(self, pretreinado, vector_size, window, min_count ):\n",
        "        self.pretreinado = pretreinado\n",
        "        self.vector_size = vector_size\n",
        "        self.window = window\n",
        "        self.min_count = min_count\n",
        "        self.model = None\n",
        "\n",
        "    def fit(self, X, y=None):\n",
        "        \n",
        "        if self.pretreinado:\n",
        "            self.model = KeyedVectors.load_word2vec_format('dados/cbow_s100.txt')\n",
        "        else:\n",
        "            self.model = Word2Vec(sentences = X,\n",
        "                          vector_size = self.vector_size,\n",
        "                          window = self.window,\n",
        "                          min_count = self.min_count)\n",
        "        return self\n",
        "\n",
        "\n",
        "    def transform(self, X, y=None):\n",
        "        if self.pretreinado:\n",
        "            return self.dataset2featureMatrix2(X, self.model)\n",
        "        else:\n",
        "            return self.dataset2featureMatrix(X, self.model)\n",
        "    \n",
        "    def getDocvector(self, model, doc):\n",
        "\n",
        "        wordList = []\n",
        "        for word in doc:\n",
        "\n",
        "            try:\n",
        "                vec = model.wv[word]\n",
        "                wordList.append(vec)\n",
        "            except:\n",
        "                pass\n",
        "\n",
        "        if len(wordList)>0:\n",
        "            vetorMedio = np.mean( wordList, axis=0 )\n",
        "        else:\n",
        "            vetorMedio = np.zeros( model.vector_size )\n",
        "\n",
        "        return vetorMedio\n",
        "\n",
        "    def dataset2featureMatrix(self, dataset, embeddingModel):\n",
        "\n",
        "        X_embedding = []\n",
        "        for doc in dataset:\n",
        "            vec = self.getDocvector(embeddingModel, doc)\n",
        "            X_embedding.append(vec)\n",
        "\n",
        "        X_embedding = np.array(X_embedding)\n",
        "\n",
        "        return X_embedding\n",
        "    \n",
        "\n",
        "    def getDocvector2(self, model, doc):\n",
        "        wordList2 = []\n",
        "        for word in doc:\n",
        "            try:\n",
        "                vec = model[word]\n",
        "                wordList2.append(vec)\n",
        "            except:\n",
        "                pass\n",
        "        if len(wordList2)>0:\n",
        "            vetorMedio = np.mean( wordList2, axis=0 )\n",
        "        else:        \n",
        "            vetorMedio = np.zeros( model.vector_size )\n",
        "\n",
        "        return vetorMedio\n",
        "\n",
        "    def dataset2featureMatrix2(self, dataset, embeddingModel):\n",
        "\n",
        "        word2v = []\n",
        "        for doc in dataset:\n",
        "            vec = self.getDocvector2(embeddingModel, doc)\n",
        "            word2v.append(vec)\n",
        "\n",
        "        word2v = np.array(word2v)\n",
        "\n",
        "        return word2v"
      ]
    },
    {
      "cell_type": "markdown",
      "metadata": {},
      "source": [
        "# nuvem de palavra do dataset\n",
        "\n",
        "é  possivel observar que precisa do preprocessamento"
      ]
    },
    {
      "cell_type": "code",
      "execution_count": 11,
      "metadata": {},
      "outputs": [
        {
          "data": {
            "image/png": "[encoded data removed]",
            "text/plain": [
              "<Figure size 640x480 with 1 Axes>"
            ]
          },
          "metadata": {},
          "output_type": "display_data"
        }
      ],
      "source": [
        "wc = WordCloud(min_font_size = 10, max_font_size = 200, \n",
        "               background_color = \"white\", relative_scaling=0.5)\n",
        "\n",
        "# Adicione o texto à nuvem de palavras\n",
        "wc.generate(\" \".join(df['text']))\n",
        "\n",
        "# Plote a nuvem de palavras\n",
        "plt.imshow(wc)\n",
        "plt.axis(\"off\")\n",
        "plt.show()"
      ]
    },
    {
      "cell_type": "markdown",
      "metadata": {
        "id": "1F9GERa3zP1Q"
      },
      "source": [
        "# Divisão do dataset \n"
      ]
    },
    {
      "cell_type": "code",
      "execution_count": 12,
      "metadata": {},
      "outputs": [
        {
          "data": {
            "text/plain": [
              "0     O jovem inventor Nicephóre Niepce foi quem co...\n",
              "1     As coisas pioraram nas cidades, porque os pré...\n",
              "2     Você acredita que mais de 600 mil lusitanos v...\n",
              "3     Depois de dar um duro danado, acordando muito...\n",
              "4     Para que todas essas coisas existam, as pesso...\n",
              "Name: text, dtype: object"
            ]
          },
          "metadata": {},
          "output_type": "display_data"
        },
        {
          "data": {
            "text/plain": [
              "0    0\n",
              "1    0\n",
              "2    0\n",
              "3    0\n",
              "4    0\n",
              "Name: target, dtype: int32"
            ]
          },
          "metadata": {},
          "output_type": "display_data"
        }
      ],
      "source": [
        "dataset = df['text']\n",
        "target = df['target']\n",
        "\n",
        "display(dataset.head())\n",
        "display(target.head())"
      ]
    },
    {
      "cell_type": "code",
      "execution_count": 13,
      "metadata": {},
      "outputs": [
        {
          "data": {
            "text/plain": [
              "22      Curiosidades. Quando as divergências dos povos...\n",
              "300     Saúde e Bem-estar. Cansado, após um dia de int...\n",
              "1389    Logística/Embalagem/Metal/Vantagens e desvanta...\n",
              "823      Experiência religiosa/Ponto de vista religios...\n",
              "692      Pela propriedade transitiva das relações de e...\n",
              "Name: text, dtype: object"
            ]
          },
          "metadata": {},
          "output_type": "display_data"
        },
        {
          "data": {
            "text/plain": [
              "22      1\n",
              "300     1\n",
              "1389    3\n",
              "823     2\n",
              "692     2\n",
              "Name: target, dtype: int32"
            ]
          },
          "metadata": {},
          "output_type": "display_data"
        },
        {
          "data": {
            "text/plain": [
              "307     Sociologia. O racismo consiste numa teoria que...\n",
              "1192     Estas revelações suscitaram o interesse e a i...\n",
              "775      Sabendo-se que a aceleração de uma matéria qu...\n",
              "237     Desde o momento em que nasce, toda criança se ...\n",
              "1029     A cidade do Rio de Janeiro no século XX/Segun...\n",
              "Name: text, dtype: object"
            ]
          },
          "metadata": {},
          "output_type": "display_data"
        },
        {
          "data": {
            "text/plain": [
              "307     1\n",
              "1192    2\n",
              "775     2\n",
              "237     0\n",
              "1029    2\n",
              "Name: target, dtype: int32"
            ]
          },
          "metadata": {},
          "output_type": "display_data"
        },
        {
          "name": "stdout",
          "output_type": "stream",
          "text": [
            "(1660,)\n",
            "(416,)\n"
          ]
        }
      ],
      "source": [
        "from sklearn.model_selection import train_test_split\n",
        "\n",
        "X_train, X_test, y_train, y_test = train_test_split(\n",
        "    dataset,  # Dados com os títulos e textos\n",
        "    target,   # Classes correspondentes\n",
        "    test_size=0.2,  # Porcentagem dos dados a serem usados como conjunto de teste\n",
        "    random_state=42  # Semente para a geração de números aleatórios para reprodutibilidade\n",
        ")\n",
        "display(X_train.head())\n",
        "display(y_train.head())\n",
        "display(X_test.head())\n",
        "display(y_test.head())\n",
        "print(X_train.shape)\n",
        "print(X_test.shape)"
      ]
    },
    {
      "cell_type": "markdown",
      "metadata": {},
      "source": [
        "# definição dos pipeline e execução do Grid Search"
      ]
    },
    {
      "cell_type": "code",
      "execution_count": 14,
      "metadata": {},
      "outputs": [
        {
          "name": "stdout",
          "output_type": "stream",
          "text": [
            "\n",
            "Método:  Floresta Aleatoria TF\n",
            "Melhor Acurácia:  0.8774038461538461\n",
            "Melhor Macro F1:  0.8760146012821596\n",
            "Melhor precisão:  0.8824652127143817\n",
            "Melhor revocação:  0.8813291003013345\n",
            "Melhor AUC:  0.9806972544527439\n",
            "Melhores Parâmetros:  {'preprocessing__stopwords': True, 'preprocessing__stemming': False, 'clf__n_estimators': 150, 'clf__max_depth': None}\n",
            "\n",
            "Método:  Floresta Aleatoria TF-IDF\n",
            "Melhor Acurácia:  0.8581730769230769\n",
            "Melhor Macro F1:  0.8562786920272021\n",
            "Melhor precisão:  0.8656139265713111\n",
            "Melhor revocação:  0.863285622040465\n",
            "Melhor AUC:  0.9823236350988084\n",
            "Melhores Parâmetros:  {'preprocessing__stopwords': False, 'preprocessing__stemming': False, 'clf__n_estimators': 200, 'clf__max_depth': None}\n",
            "\n",
            "Método:  Floresta Aleatoria Binario\n",
            "Melhor Acurácia:  0.8605769230769231\n",
            "Melhor Macro F1:  0.8592776513215961\n",
            "Melhor precisão:  0.8693039034065565\n",
            "Melhor revocação:  0.8651334481274214\n",
            "Melhor AUC:  0.9835193101475952\n",
            "Melhores Parâmetros:  {'preprocessing__stopwords': True, 'preprocessing__stemming': True, 'clf__n_estimators': 200, 'clf__max_depth': None}\n",
            "\n",
            "Método:  Floresta Aleatoria Word2Vec\n",
            "Melhor Acurácia:  0.7475961538461539\n",
            "Melhor Macro F1:  0.7475971463164255\n",
            "Melhor precisão:  0.7507828794013004\n",
            "Melhor revocação:  0.7528960396039603\n",
            "Melhor AUC:  0.9182280765476531\n",
            "Melhores Parâmetros:  {'preprocessing__stopwords': True, 'preprocessing__stemming': False, 'clf__n_estimators': 150, 'clf__max_depth': 20}\n",
            "\n",
            "Método:  Floresta Aleatoria Word2Vec (pre-treinado)\n",
            "Melhor Acurácia:  0.65625\n",
            "Melhor Macro F1:  0.6543523712802656\n",
            "Melhor precisão:  0.6621614625378066\n",
            "Melhor revocação:  0.6607522600086095\n",
            "Melhor AUC:  0.8815727735293962\n",
            "Melhores Parâmetros:  {'preprocessing__stopwords': False, 'preprocessing__stemming': False, 'clf__n_estimators': 150, 'clf__max_depth': None}\n"
          ]
        }
      ],
      "source": [
        "RF = RandomForestClassifier()\n",
        "\n",
        "pipelines = [\n",
        "    ('Floresta Aleatoria TF', Pipeline([\n",
        "        ('preprocessing', Preprocessing()),\n",
        "    ('TF', CountVectorizer()),\n",
        "    ('clf', RF),\n",
        "    ])),\n",
        "    ('Floresta Aleatoria TF-IDF', Pipeline([\n",
        "        ('preprocessing', Preprocessing()),\n",
        "        ('vect', TfidfVectorizer()),\n",
        "        ('clf', RF),\n",
        "    ])),\n",
        "    ('Floresta Aleatoria Binario', Pipeline([\n",
        "        ('preprocessing', Preprocessing()),\n",
        "        ('vect', CountVectorizer(binary=True)),\n",
        "        ('clf', RF),\n",
        "    ])),\n",
        "    ('Floresta Aleatoria Word2Vec', Pipeline([\n",
        "        ('preprocessing', Preprocessing()),\n",
        "        ('embedding', Embedding(pretreinado=False, vector_size=200, window=3,min_count=1)),\n",
        "        ('scaler', MinMaxScaler()),\n",
        "        ('clf', RF),\n",
        "    ])),\n",
        "    ('Floresta Aleatoria Word2Vec (pre-treinado)', Pipeline([\n",
        "        ('preprocessing', Preprocessing()),\n",
        "        ('w2v', Embedding(pretreinado=True, vector_size=200, window=3,min_count=1)),\n",
        "        ('scaler', MinMaxScaler()),\n",
        "        ('clf', RF),\n",
        "    ])),\n",
        "]\n",
        "\n",
        "# Definindo a grade de parâmetros\n",
        "parameters = {\n",
        "    'preprocessing__stemming': [ True, False],\n",
        "    'preprocessing__stopwords': [ True, False],\n",
        "    'clf__n_estimators': [100, 150, 200],\n",
        "    'clf__max_depth': [None, 5, 10, 20],\n",
        "}\n",
        "\n",
        "param_distributions = ParameterSampler(parameters, n_iter=5)\n",
        "\n",
        "best_auc_pipeline = 0\n",
        "best_pipeline = None\n",
        "preprocessed_X_train = None\n",
        "for name, pipeline in pipelines:\n",
        "    best_accuracy = 0\n",
        "    best_auc = 0\n",
        "    best_params = None\n",
        "    print(\"\\nMétodo: \", name)\n",
        "\n",
        "    for params in param_distributions:\n",
        "        \n",
        "# Verifica se os dados pré-processados já existem no dicionário\n",
        "        \n",
        "        pipeline.set_params(**params)\n",
        "        # Ajusta o pipeline aos dados pré-processados\n",
        "        pipeline.fit(X_train, y_train)\n",
        "        y_pred = pipeline.predict(X_test )\n",
        "        Y_pred_proba = pipeline.predict_proba(X_test)\n",
        "        accuracy = accuracy_score(y_test, y_pred)\n",
        "        macro_f1 = f1_score(y_test, y_pred, average='macro'  )\n",
        "        precision = precision_score(y_test, y_pred, average='macro', zero_division=0)\n",
        "        recall = recall_score(y_test, y_pred, average='macro')\n",
        "        auc = roc_auc_score(y_test, Y_pred_proba, average='macro', multi_class='ovr')\n",
        "        # Se o auc for melhor que o melhor auc até agora, atualiza o melhor auc e os melhores parâmetros\n",
        "        if auc > best_auc:\n",
        "            best_accuracy = accuracy\n",
        "            best_macro = macro_f1\n",
        "            best_precision = precision\n",
        "            best_recall = recall\n",
        "            best_params = params\n",
        "            best_pipeline = pipeline\n",
        "            best_auc = auc\n",
        "\n",
        "    \n",
        "    if best_auc > best_auc_pipeline:\n",
        "        best_auc_pipeline = best_auc\n",
        "        best_pipeline = pipeline\n",
        "    print(\"Melhor Acurácia: \", best_accuracy)\n",
        "    print(\"Melhor Macro F1: \", best_macro)\n",
        "    print(\"Melhor precisão: \", best_precision)\n",
        "    print(\"Melhor revocação: \", best_recall)\n",
        "    print(\"Melhor AUC: \", best_auc)\n",
        "    print(\"Melhores Parâmetros: \", best_params)"
      ]
    }
  ],
  "metadata": {
    "colab": {
      "provenance": []
    },
    "kernelspec": {
      "display_name": "Python 3 (ipykernel)",
      "language": "python",
      "name": "python3"
    },
    "language_info": {
      "codemirror_mode": {
        "name": "ipython",
        "version": 3
      },
      "file_extension": ".py",
      "mimetype": "text/x-python",
      "name": "python",
      "nbconvert_exporter": "python",
      "pygments_lexer": "ipython3",
      "version": "3.12.1"
    }
  },
  "nbformat": 4,
  "nbformat_minor": 0
}
